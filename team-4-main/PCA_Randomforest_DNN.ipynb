{
 "cells": [
  {
   "cell_type": "markdown",
   "id": "bcd72587",
   "metadata": {},
   "source": [
    "### normalization (log transformation)"
   ]
  },
  {
   "cell_type": "code",
   "execution_count": 62,
   "id": "3e0ad866",
   "metadata": {},
   "outputs": [
    {
     "data": {
      "text/plain": [
       "['altitude',\n",
       " 'building_height_ft',\n",
       " 'building_total_area_sqft',\n",
       " 'building_year',\n",
       " 'living_area_sqft',\n",
       " 'lowe_floor_thermal_conductivity',\n",
       " 'outer_wall_thermal_conductivity',\n",
       " 'percentage_glazed_surfaced',\n",
       " 'upper_floor_thermal_conductivity',\n",
       " 'window_heat_retention_factor',\n",
       " 'window_thermal_conductivity',\n",
       " 'energy_consumption_per_annum']"
      ]
     },
     "execution_count": 62,
     "metadata": {},
     "output_type": "execute_result"
    }
   ],
   "source": [
    "fl_cols = list(df_clean.columns[df_clean.dtypes==\"float64\"]) \n",
    "fl_cols"
   ]
  },
  {
   "cell_type": "code",
   "execution_count": 63,
   "id": "e0e4bfe8",
   "metadata": {},
   "outputs": [],
   "source": [
    "X = df_clean.drop([\"energy_consumption_per_annum\"], axis=1)\n",
    "y = df_clean[\"energy_consumption_per_annum\"]"
   ]
  },
  {
   "cell_type": "code",
   "execution_count": 64,
   "id": "493d89c0",
   "metadata": {},
   "outputs": [],
   "source": [
    "from sklearn.decomposition import PCA\n",
    "\n",
    "# Instantiate the PCA object\n",
    "pca = PCA(n_components=0.95)\n",
    "\n",
    "# Fit PCA to the data\n",
    "pca.fit(X)\n",
    "\n",
    "# Transform the data\n",
    "X_pca = pca.transform(X)"
   ]
  },
  {
   "cell_type": "code",
   "execution_count": 66,
   "id": "6b964f5f",
   "metadata": {},
   "outputs": [
    {
     "data": {
      "text/plain": [
       "(1000731, 2)"
      ]
     },
     "execution_count": 66,
     "metadata": {},
     "output_type": "execute_result"
    }
   ],
   "source": [
    "X_pca.shape"
   ]
  },
  {
   "cell_type": "code",
   "execution_count": 67,
   "id": "5e6d9587",
   "metadata": {},
   "outputs": [
    {
     "data": {
      "text/plain": [
       "(1000731, 40)"
      ]
     },
     "execution_count": 67,
     "metadata": {},
     "output_type": "execute_result"
    }
   ],
   "source": [
    "X.shape"
   ]
  },
  {
   "cell_type": "code",
   "execution_count": 68,
   "id": "42544d54",
   "metadata": {},
   "outputs": [],
   "source": [
    "from sklearn.preprocessing import StandardScaler"
   ]
  },
  {
   "cell_type": "code",
   "execution_count": 69,
   "id": "b77a8703",
   "metadata": {},
   "outputs": [],
   "source": [
    "std_scale = StandardScaler().fit(X)\n",
    "X_scaled = std_scale.transform(X)"
   ]
  },
  {
   "cell_type": "code",
   "execution_count": 70,
   "id": "e7711c2d",
   "metadata": {},
   "outputs": [],
   "source": [
    "pca = PCA().fit(X_scaled)"
   ]
  },
  {
   "cell_type": "code",
   "execution_count": 71,
   "id": "d741c506",
   "metadata": {},
   "outputs": [
    {
     "data": {
      "text/plain": [
       "Text(0, 0.5, 'cumulative explained variance')"
      ]
     },
     "execution_count": 71,
     "metadata": {},
     "output_type": "execute_result"
    },
    {
     "data": {
      "image/png": "[encoded data removed]",
      "text/plain": [
       "<Figure size 432x288 with 1 Axes>"
      ]
     },
     "metadata": {
      "needs_background": "light"
     },
     "output_type": "display_data"
    }
   ],
   "source": [
    "#need to know first how many components are required to explain at least 90% of features variation\n",
    "plt.plot(np.cumsum(pca.explained_variance_ratio_))\n",
    "plt.xlabel('number of components')\n",
    "plt.ylabel('cumulative explained variance')"
   ]
  },
  {
   "cell_type": "markdown",
   "id": "8db84e4b",
   "metadata": {},
   "source": [
    "### random forest"
   ]
  },
  {
   "cell_type": "code",
   "execution_count": 72,
   "id": "c520bb4f",
   "metadata": {},
   "outputs": [],
   "source": [
    "from sklearn.ensemble import RandomForestRegressor\n",
    "from sklearn.metrics import mean_squared_error\n",
    "\n",
    "# Instantiate the Random Forest model\n",
    "rf_model = RandomForestRegressor(n_estimators=100, random_state=42)\n",
    "\n",
    "# Split the data into training and test sets\n",
    "X_train, X_test, y_train, y_test = train_test_split(X, y, test_size=0.2, random_state=42)\n",
    "\n",
    "# Fit the model to the training data\n",
    "rf_model.fit(X_train, y_train)\n",
    "\n",
    "# Make predictions on the test set\n",
    "y_pred = rf_model.predict(X_test)"
   ]
  },
  {
   "cell_type": "code",
   "execution_count": 73,
   "id": "2a874047",
   "metadata": {},
   "outputs": [
    {
     "name": "stdout",
     "output_type": "stream",
     "text": [
      "Explained variance: 0.6986635224992928\n"
     ]
    }
   ],
   "source": [
    "explained_variance = explained_variance_score(y_test, y_pred)\n",
    "print(\"Explained variance:\", explained_variance)"
   ]
  },
  {
   "cell_type": "code",
   "execution_count": 77,
   "id": "b2d70f26",
   "metadata": {},
   "outputs": [],
   "source": [
    "import xgboost as xgb\n"
   ]
  },
  {
   "cell_type": "code",
   "execution_count": null,
   "id": "03c75bce",
   "metadata": {},
   "outputs": [],
   "source": [
    "xgb_model = xgb.XGBRegressor(objective='reg:squarederror', n_estimators=1500, max_depth=15, learning_rate=0.1)\n",
    "xgb_model.fit(X_train, y_train)\n",
    "y_pred = xgb_model.predict(X_test)\n",
    "explained_variance = explained_variance_score(y_test, y_pred)\n",
    "print(\"Explained variance:\", explained_variance)"
   ]
  },
  {
   "cell_type": "markdown",
   "id": "042de856",
   "metadata": {},
   "source": [
    "DNN"
   ]
  },
  {
   "cell_type": "code",
   "execution_count": null,
   "id": "88ddfb1b",
   "metadata": {},
   "outputs": [],
   "source": [
    "NN_model = Sequential()\n",
    "\n",
    "# The Input Layer :\n",
    "NN_model.add(Dense(128, kernel_initializer='normal',input_dim = X_train.shape[1], activation='relu'))\n",
    "\n",
    "# The Hidden Layers :\n",
    "NN_model.add(Dense(256, kernel_initializer='normal',activation='relu'))\n",
    "NN_model.add(Dense(256, kernel_initializer='normal',activation='relu'))\n",
    "NN_model.add(Dense(256, kernel_initializer='normal',activation='relu'))\n",
    "\n",
    "# The Output Layer :\n",
    "NN_model.add(Dense(1, kernel_initializer='normal',activation='linear'))\n",
    "\n",
    "# Compile the network :\n",
    "NN_model.compile(loss='mean_absolute_error', optimizer='adam', metrics=['mean_absolute_error'])\n",
    "NN_model.summary()"
   ]
  },
  {
   "cell_type": "code",
   "execution_count": null,
   "id": "ef0781ac",
   "metadata": {},
   "outputs": [],
   "source": [
    "checkpoint_name = 'Weights-{epoch:03d}--{val_loss:.5f}.hdf5' \n",
    "checkpoint = ModelCheckpoint(checkpoint_name, monitor='val_loss', verbose = 1, save_best_only = True, mode ='auto')\n",
    "callbacks_list = [checkpoint]"
   ]
  },
  {
   "cell_type": "code",
   "execution_count": null,
   "id": "5639d35e",
   "metadata": {},
   "outputs": [],
   "source": [
    "NN_model.fit(X_train, y_train, epochs=500, batch_size=32, validation_split = 0.2, callbacks=callbacks_list)"
   ]
  }
 ],
 "metadata": {
  "kernelspec": {
   "display_name": "Python 3 (ipykernel)",
   "language": "python",
   "name": "python3"
  },
  "language_info": {
   "codemirror_mode": {
    "name": "ipython",
    "version": 3
   },
   "file_extension": ".py",
   "mimetype": "text/x-python",
   "name": "python",
   "nbconvert_exporter": "python",
   "pygments_lexer": "ipython3",
   "version": "3.8.13"
  }
 },
 "nbformat": 4,
 "nbformat_minor": 5
}
